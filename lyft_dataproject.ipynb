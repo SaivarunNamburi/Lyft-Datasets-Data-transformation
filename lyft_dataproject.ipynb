{
 "cells": [
  {
   "cell_type": "code",
   "execution_count": 4,
   "metadata": {
    "collapsed": true
   },
   "outputs": [],
   "source": [
    "import pandas as pd\n",
    "import numpy as np"
   ]
  },
  {
   "cell_type": "code",
   "execution_count": 5,
   "outputs": [
    {
     "data": {
      "text/plain": "                            driver_id  driver_onboard_date\n0    002be0ffdc997bd5c50703158b7c2491  2016-03-29 00:00:00\n1    007f0389f9c7b03ef97098422f902e62  2016-03-29 00:00:00\n2    011e5c5dfc5c2c92501b8b24d47509bc  2016-04-05 00:00:00\n3    0152a2f305e71d26cc964f8d4411add9  2016-04-23 00:00:00\n4    01674381af7edd264113d4e6ed55ecda  2016-04-29 00:00:00\n..                                ...                  ...\n932  ff419a3476e21e269e340b5f1f05414e  2016-04-26 00:00:00\n933  ff714a67ba8c6a108261cd81e3b77f3a  2016-03-28 00:00:00\n934  fff482c704d36a1afe8b8978d5486283  2016-04-08 00:00:00\n935  fffecccc49436c5389075b13209f0dfa  2016-05-06 00:00:00\n936  ffff51a71f2f185ec5e97d59dbcd7a78  2016-05-04 00:00:00\n\n[937 rows x 2 columns]",
      "text/html": "<div>\n<style scoped>\n    .dataframe tbody tr th:only-of-type {\n        vertical-align: middle;\n    }\n\n    .dataframe tbody tr th {\n        vertical-align: top;\n    }\n\n    .dataframe thead th {\n        text-align: right;\n    }\n</style>\n<table border=\"1\" class=\"dataframe\">\n  <thead>\n    <tr style=\"text-align: right;\">\n      <th></th>\n      <th>driver_id</th>\n      <th>driver_onboard_date</th>\n    </tr>\n  </thead>\n  <tbody>\n    <tr>\n      <th>0</th>\n      <td>002be0ffdc997bd5c50703158b7c2491</td>\n      <td>2016-03-29 00:00:00</td>\n    </tr>\n    <tr>\n      <th>1</th>\n      <td>007f0389f9c7b03ef97098422f902e62</td>\n      <td>2016-03-29 00:00:00</td>\n    </tr>\n    <tr>\n      <th>2</th>\n      <td>011e5c5dfc5c2c92501b8b24d47509bc</td>\n      <td>2016-04-05 00:00:00</td>\n    </tr>\n    <tr>\n      <th>3</th>\n      <td>0152a2f305e71d26cc964f8d4411add9</td>\n      <td>2016-04-23 00:00:00</td>\n    </tr>\n    <tr>\n      <th>4</th>\n      <td>01674381af7edd264113d4e6ed55ecda</td>\n      <td>2016-04-29 00:00:00</td>\n    </tr>\n    <tr>\n      <th>...</th>\n      <td>...</td>\n      <td>...</td>\n    </tr>\n    <tr>\n      <th>932</th>\n      <td>ff419a3476e21e269e340b5f1f05414e</td>\n      <td>2016-04-26 00:00:00</td>\n    </tr>\n    <tr>\n      <th>933</th>\n      <td>ff714a67ba8c6a108261cd81e3b77f3a</td>\n      <td>2016-03-28 00:00:00</td>\n    </tr>\n    <tr>\n      <th>934</th>\n      <td>fff482c704d36a1afe8b8978d5486283</td>\n      <td>2016-04-08 00:00:00</td>\n    </tr>\n    <tr>\n      <th>935</th>\n      <td>fffecccc49436c5389075b13209f0dfa</td>\n      <td>2016-05-06 00:00:00</td>\n    </tr>\n    <tr>\n      <th>936</th>\n      <td>ffff51a71f2f185ec5e97d59dbcd7a78</td>\n      <td>2016-05-04 00:00:00</td>\n    </tr>\n  </tbody>\n</table>\n<p>937 rows × 2 columns</p>\n</div>"
     },
     "execution_count": 5,
     "metadata": {},
     "output_type": "execute_result"
    }
   ],
   "source": [
    "driver_ids = pd.read_csv('datasets/driver_ids.csv')\n",
    "driver_ids"
   ],
   "metadata": {
    "collapsed": false
   }
  },
  {
   "cell_type": "code",
   "execution_count": 6,
   "outputs": [
    {
     "data": {
      "text/plain": "                          driver_id                           ride_id  \\\n0  002be0ffdc997bd5c50703158b7c2491  006d61cf7446e682f7bc50b0f8a5bea5   \n1  002be0ffdc997bd5c50703158b7c2491  01b522c5c3a756fbdb12e95e87507eda   \n2  002be0ffdc997bd5c50703158b7c2491  029227c4c2971ce69ff2274dc798ef43   \n3  002be0ffdc997bd5c50703158b7c2491  034e861343a63ac3c18a9ceb1ce0ac69   \n4  002be0ffdc997bd5c50703158b7c2491  034f2e614a2f9fc7f1c2f77647d1b981   \n\n   ride_distance  ride_duration  ride_prime_time  \n0           1811            327               50  \n1           3362            809                0  \n2           3282            572                0  \n3          65283           3338               25  \n4           4115            823              100  ",
      "text/html": "<div>\n<style scoped>\n    .dataframe tbody tr th:only-of-type {\n        vertical-align: middle;\n    }\n\n    .dataframe tbody tr th {\n        vertical-align: top;\n    }\n\n    .dataframe thead th {\n        text-align: right;\n    }\n</style>\n<table border=\"1\" class=\"dataframe\">\n  <thead>\n    <tr style=\"text-align: right;\">\n      <th></th>\n      <th>driver_id</th>\n      <th>ride_id</th>\n      <th>ride_distance</th>\n      <th>ride_duration</th>\n      <th>ride_prime_time</th>\n    </tr>\n  </thead>\n  <tbody>\n    <tr>\n      <th>0</th>\n      <td>002be0ffdc997bd5c50703158b7c2491</td>\n      <td>006d61cf7446e682f7bc50b0f8a5bea5</td>\n      <td>1811</td>\n      <td>327</td>\n      <td>50</td>\n    </tr>\n    <tr>\n      <th>1</th>\n      <td>002be0ffdc997bd5c50703158b7c2491</td>\n      <td>01b522c5c3a756fbdb12e95e87507eda</td>\n      <td>3362</td>\n      <td>809</td>\n      <td>0</td>\n    </tr>\n    <tr>\n      <th>2</th>\n      <td>002be0ffdc997bd5c50703158b7c2491</td>\n      <td>029227c4c2971ce69ff2274dc798ef43</td>\n      <td>3282</td>\n      <td>572</td>\n      <td>0</td>\n    </tr>\n    <tr>\n      <th>3</th>\n      <td>002be0ffdc997bd5c50703158b7c2491</td>\n      <td>034e861343a63ac3c18a9ceb1ce0ac69</td>\n      <td>65283</td>\n      <td>3338</td>\n      <td>25</td>\n    </tr>\n    <tr>\n      <th>4</th>\n      <td>002be0ffdc997bd5c50703158b7c2491</td>\n      <td>034f2e614a2f9fc7f1c2f77647d1b981</td>\n      <td>4115</td>\n      <td>823</td>\n      <td>100</td>\n    </tr>\n  </tbody>\n</table>\n</div>"
     },
     "execution_count": 6,
     "metadata": {},
     "output_type": "execute_result"
    }
   ],
   "source": [
    "ride_ids = pd.read_csv('datasets/ride_ids.csv')\n",
    "ride_ids.head()"
   ],
   "metadata": {
    "collapsed": false
   }
  },
  {
   "cell_type": "code",
   "execution_count": 7,
   "outputs": [
    {
     "data": {
      "text/plain": "                            ride_id           event            timestamp\n0  00003037a262d9ee40e61b5c0718f7f0    requested_at  2016-06-13 09:39:19\n1  00003037a262d9ee40e61b5c0718f7f0     accepted_at  2016-06-13 09:39:51\n2  00003037a262d9ee40e61b5c0718f7f0      arrived_at  2016-06-13 09:44:31\n3  00003037a262d9ee40e61b5c0718f7f0    picked_up_at  2016-06-13 09:44:33\n4  00003037a262d9ee40e61b5c0718f7f0  dropped_off_at  2016-06-13 10:03:05",
      "text/html": "<div>\n<style scoped>\n    .dataframe tbody tr th:only-of-type {\n        vertical-align: middle;\n    }\n\n    .dataframe tbody tr th {\n        vertical-align: top;\n    }\n\n    .dataframe thead th {\n        text-align: right;\n    }\n</style>\n<table border=\"1\" class=\"dataframe\">\n  <thead>\n    <tr style=\"text-align: right;\">\n      <th></th>\n      <th>ride_id</th>\n      <th>event</th>\n      <th>timestamp</th>\n    </tr>\n  </thead>\n  <tbody>\n    <tr>\n      <th>0</th>\n      <td>00003037a262d9ee40e61b5c0718f7f0</td>\n      <td>requested_at</td>\n      <td>2016-06-13 09:39:19</td>\n    </tr>\n    <tr>\n      <th>1</th>\n      <td>00003037a262d9ee40e61b5c0718f7f0</td>\n      <td>accepted_at</td>\n      <td>2016-06-13 09:39:51</td>\n    </tr>\n    <tr>\n      <th>2</th>\n      <td>00003037a262d9ee40e61b5c0718f7f0</td>\n      <td>arrived_at</td>\n      <td>2016-06-13 09:44:31</td>\n    </tr>\n    <tr>\n      <th>3</th>\n      <td>00003037a262d9ee40e61b5c0718f7f0</td>\n      <td>picked_up_at</td>\n      <td>2016-06-13 09:44:33</td>\n    </tr>\n    <tr>\n      <th>4</th>\n      <td>00003037a262d9ee40e61b5c0718f7f0</td>\n      <td>dropped_off_at</td>\n      <td>2016-06-13 10:03:05</td>\n    </tr>\n  </tbody>\n</table>\n</div>"
     },
     "execution_count": 7,
     "metadata": {},
     "output_type": "execute_result"
    }
   ],
   "source": [
    "ride_ts = pd.read_csv('datasets/ride_timestamps.csv')\n",
    "ride_ts.head()"
   ],
   "metadata": {
    "collapsed": false
   }
  },
  {
   "cell_type": "code",
   "execution_count": 9,
   "outputs": [
    {
     "data": {
      "text/plain": "                               driver_id                           ride_id  \\\n0       002be0ffdc997bd5c50703158b7c2491  006d61cf7446e682f7bc50b0f8a5bea5   \n1       002be0ffdc997bd5c50703158b7c2491  01b522c5c3a756fbdb12e95e87507eda   \n2       002be0ffdc997bd5c50703158b7c2491  029227c4c2971ce69ff2274dc798ef43   \n3       002be0ffdc997bd5c50703158b7c2491  034e861343a63ac3c18a9ceb1ce0ac69   \n4       002be0ffdc997bd5c50703158b7c2491  034f2e614a2f9fc7f1c2f77647d1b981   \n...                                  ...                               ...   \n193497  ffff51a71f2f185ec5e97d59dbcd7a78  fc717192b3512767269ff5a54b97af05   \n193498  ffff51a71f2f185ec5e97d59dbcd7a78  fd6fa5f9265d2cf83936ead663f9e0e7   \n193499  ffff51a71f2f185ec5e97d59dbcd7a78  fe0857c43025264d337dfe1d8463e503   \n193500  ffff51a71f2f185ec5e97d59dbcd7a78  ff0db0ca4557bf5b05b4da6f660a1ac1   \n193501  ffff51a71f2f185ec5e97d59dbcd7a78  ff7dc29693f8c79ff103d350a7b6c157   \n\n        ride_distance  ride_duration  ride_prime_time  ride_total_cost  \n0                1811            327               50         8.488488  \n1                3362            809                0         9.117306  \n2                3282            572                0         8.191174  \n3               65283           3338               25        77.826485  \n4                4115            823              100        17.662788  \n...               ...            ...              ...              ...  \n193497          10127           1336                0        15.880864  \n193498           1908            445                0         6.744265  \n193499           4039            875                0         9.842785  \n193500           4760            777                0         9.998354  \n193501           3751            889              100        17.626887  \n\n[193502 rows x 6 columns]",
      "text/html": "<div>\n<style scoped>\n    .dataframe tbody tr th:only-of-type {\n        vertical-align: middle;\n    }\n\n    .dataframe tbody tr th {\n        vertical-align: top;\n    }\n\n    .dataframe thead th {\n        text-align: right;\n    }\n</style>\n<table border=\"1\" class=\"dataframe\">\n  <thead>\n    <tr style=\"text-align: right;\">\n      <th></th>\n      <th>driver_id</th>\n      <th>ride_id</th>\n      <th>ride_distance</th>\n      <th>ride_duration</th>\n      <th>ride_prime_time</th>\n      <th>ride_total_cost</th>\n    </tr>\n  </thead>\n  <tbody>\n    <tr>\n      <th>0</th>\n      <td>002be0ffdc997bd5c50703158b7c2491</td>\n      <td>006d61cf7446e682f7bc50b0f8a5bea5</td>\n      <td>1811</td>\n      <td>327</td>\n      <td>50</td>\n      <td>8.488488</td>\n    </tr>\n    <tr>\n      <th>1</th>\n      <td>002be0ffdc997bd5c50703158b7c2491</td>\n      <td>01b522c5c3a756fbdb12e95e87507eda</td>\n      <td>3362</td>\n      <td>809</td>\n      <td>0</td>\n      <td>9.117306</td>\n    </tr>\n    <tr>\n      <th>2</th>\n      <td>002be0ffdc997bd5c50703158b7c2491</td>\n      <td>029227c4c2971ce69ff2274dc798ef43</td>\n      <td>3282</td>\n      <td>572</td>\n      <td>0</td>\n      <td>8.191174</td>\n    </tr>\n    <tr>\n      <th>3</th>\n      <td>002be0ffdc997bd5c50703158b7c2491</td>\n      <td>034e861343a63ac3c18a9ceb1ce0ac69</td>\n      <td>65283</td>\n      <td>3338</td>\n      <td>25</td>\n      <td>77.826485</td>\n    </tr>\n    <tr>\n      <th>4</th>\n      <td>002be0ffdc997bd5c50703158b7c2491</td>\n      <td>034f2e614a2f9fc7f1c2f77647d1b981</td>\n      <td>4115</td>\n      <td>823</td>\n      <td>100</td>\n      <td>17.662788</td>\n    </tr>\n    <tr>\n      <th>...</th>\n      <td>...</td>\n      <td>...</td>\n      <td>...</td>\n      <td>...</td>\n      <td>...</td>\n      <td>...</td>\n    </tr>\n    <tr>\n      <th>193497</th>\n      <td>ffff51a71f2f185ec5e97d59dbcd7a78</td>\n      <td>fc717192b3512767269ff5a54b97af05</td>\n      <td>10127</td>\n      <td>1336</td>\n      <td>0</td>\n      <td>15.880864</td>\n    </tr>\n    <tr>\n      <th>193498</th>\n      <td>ffff51a71f2f185ec5e97d59dbcd7a78</td>\n      <td>fd6fa5f9265d2cf83936ead663f9e0e7</td>\n      <td>1908</td>\n      <td>445</td>\n      <td>0</td>\n      <td>6.744265</td>\n    </tr>\n    <tr>\n      <th>193499</th>\n      <td>ffff51a71f2f185ec5e97d59dbcd7a78</td>\n      <td>fe0857c43025264d337dfe1d8463e503</td>\n      <td>4039</td>\n      <td>875</td>\n      <td>0</td>\n      <td>9.842785</td>\n    </tr>\n    <tr>\n      <th>193500</th>\n      <td>ffff51a71f2f185ec5e97d59dbcd7a78</td>\n      <td>ff0db0ca4557bf5b05b4da6f660a1ac1</td>\n      <td>4760</td>\n      <td>777</td>\n      <td>0</td>\n      <td>9.998354</td>\n    </tr>\n    <tr>\n      <th>193501</th>\n      <td>ffff51a71f2f185ec5e97d59dbcd7a78</td>\n      <td>ff7dc29693f8c79ff103d350a7b6c157</td>\n      <td>3751</td>\n      <td>889</td>\n      <td>100</td>\n      <td>17.626887</td>\n    </tr>\n  </tbody>\n</table>\n<p>193502 rows × 6 columns</p>\n</div>"
     },
     "execution_count": 9,
     "metadata": {},
     "output_type": "execute_result"
    }
   ],
   "source": [
    "#calculate the lyft fare price for each ride\n",
    "# constant variables used  to calc. total cost of ride (driver's lifetime value)\n",
    "BASEFARE = 2.00\n",
    "COSTPERMILE = 1.15\n",
    "COSTPERMIN = 0.22\n",
    "SERVICEFEE = 1.75\n",
    "MINFARE = 5.00\n",
    "MAXFARE = 400.00\n",
    "\n",
    "ride_ids['ride_total_cost'] = ( (BASEFARE + (COSTPERMIN*(ride_ids['ride_duration']/60))+(COSTPERMILE*(ride_ids['ride_distance']*0.000621))) * (1+ride_ids['ride_prime_time']/100)) + SERVICEFEE\n",
    "# Apply lower and upper bound to ride cost (Minimum Fare, Maximum Fare )\n",
    "ride_ids['ride_total_cost'] = np.where(ride_ids['ride_total_cost'] < MINFARE, MINFARE, ride_ids['ride_total_cost'])\n",
    "ride_ids['ride_total_cost'] = np.where(ride_ids['ride_total_cost'] > MAXFARE, MAXFARE, ride_ids['ride_total_cost'])\n",
    "\n",
    "ride_ids"
   ],
   "metadata": {
    "collapsed": false
   }
  },
  {
   "cell_type": "code",
   "execution_count": null,
   "outputs": [],
   "source": [],
   "metadata": {
    "collapsed": false
   }
  }
 ],
 "metadata": {
  "kernelspec": {
   "display_name": "Python 3",
   "language": "python",
   "name": "python3"
  },
  "language_info": {
   "codemirror_mode": {
    "name": "ipython",
    "version": 2
   },
   "file_extension": ".py",
   "mimetype": "text/x-python",
   "name": "python",
   "nbconvert_exporter": "python",
   "pygments_lexer": "ipython2",
   "version": "2.7.6"
  }
 },
 "nbformat": 4,
 "nbformat_minor": 0
}
